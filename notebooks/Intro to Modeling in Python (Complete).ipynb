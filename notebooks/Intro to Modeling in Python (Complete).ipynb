{
 "cells": [
  {
   "cell_type": "markdown",
   "metadata": {},
   "source": [
    "# Quick Demos of Statistics and Machine Learning in Python"
   ]
  },
  {
   "cell_type": "code",
   "execution_count": 1,
   "metadata": {
    "collapsed": true
   },
   "outputs": [],
   "source": [
    "import numpy as np\n",
    "import pandas as pd\n",
    "import seaborn as sns\n",
    "import matplotlib.pyplot as plt\n",
    "\n",
    "pd.options.display.max_rows = 10\n",
    "%matplotlib inline"
   ]
  },
  {
   "cell_type": "markdown",
   "metadata": {
    "slideshow": {
     "slide_type": "slide"
    }
   },
   "source": [
    "## Dealing with categorical data"
   ]
  },
  {
   "cell_type": "code",
   "execution_count": 2,
   "metadata": {},
   "outputs": [
    {
     "data": {
      "text/plain": [
       "0         bad\n",
       "1         bad\n",
       "2         bad\n",
       "3         bad\n",
       "4     neutral\n",
       "       ...   \n",
       "35       good\n",
       "36    neutral\n",
       "37        bad\n",
       "38        bad\n",
       "39    neutral\n",
       "dtype: object"
      ]
     },
     "execution_count": 2,
     "metadata": {},
     "output_type": "execute_result"
    }
   ],
   "source": [
    "np.random.seed(27)\n",
    "s = pd.Series(np.random.choice(['bad', 'neutral', 'good'], size=40))\n",
    "s"
   ]
  },
  {
   "cell_type": "code",
   "execution_count": 3,
   "metadata": {},
   "outputs": [
    {
     "data": {
      "text/plain": [
       "0         bad\n",
       "1         bad\n",
       "2         bad\n",
       "3         bad\n",
       "4     neutral\n",
       "       ...   \n",
       "35       good\n",
       "36    neutral\n",
       "37        bad\n",
       "38        bad\n",
       "39    neutral\n",
       "dtype: category\n",
       "Categories (3, object): [bad < neutral < good]"
      ]
     },
     "execution_count": 3,
     "metadata": {},
     "output_type": "execute_result"
    }
   ],
   "source": [
    "np.random.seed(27)\n",
    "s = pd.Series(pd.Categorical(np.random.choice(['bad', 'neutral', 'good'], size=40),\n",
    "                             categories=['bad', 'neutral', 'good'], ordered=True))\n",
    "s"
   ]
  },
  {
   "cell_type": "markdown",
   "metadata": {
    "slideshow": {
     "slide_type": "subslide"
    }
   },
   "source": [
    "Categoricals can go inside of Series or DataFrames just like any other column. The have a\n",
    "a special `.cat` namespace."
   ]
  },
  {
   "cell_type": "code",
   "execution_count": 4,
   "metadata": {},
   "outputs": [
    {
     "data": {
      "text/plain": [
       "Index([u'bad', u'neutral', u'good'], dtype='object')"
      ]
     },
     "execution_count": 4,
     "metadata": {},
     "output_type": "execute_result"
    }
   ],
   "source": [
    "s.cat.categories"
   ]
  },
  {
   "cell_type": "code",
   "execution_count": 5,
   "metadata": {},
   "outputs": [
    {
     "data": {
      "text/plain": [
       "0     0\n",
       "1     0\n",
       "2     0\n",
       "3     0\n",
       "4     1\n",
       "     ..\n",
       "35    2\n",
       "36    1\n",
       "37    0\n",
       "38    0\n",
       "39    1\n",
       "dtype: int8"
      ]
     },
     "execution_count": 5,
     "metadata": {},
     "output_type": "execute_result"
    }
   ],
   "source": [
    "s.cat.codes"
   ]
  },
  {
   "cell_type": "code",
   "execution_count": 6,
   "metadata": {},
   "outputs": [
    {
     "data": {
      "text/html": [
       "<div>\n",
       "<table border=\"1\" class=\"dataframe\">\n",
       "  <thead>\n",
       "    <tr style=\"text-align: right;\">\n",
       "      <th></th>\n",
       "      <th>a</th>\n",
       "      <th>b</th>\n",
       "    </tr>\n",
       "  </thead>\n",
       "  <tbody>\n",
       "    <tr>\n",
       "      <th>0</th>\n",
       "      <td>0</td>\n",
       "      <td>bad</td>\n",
       "    </tr>\n",
       "    <tr>\n",
       "      <th>1</th>\n",
       "      <td>1</td>\n",
       "      <td>bad</td>\n",
       "    </tr>\n",
       "    <tr>\n",
       "      <th>2</th>\n",
       "      <td>2</td>\n",
       "      <td>bad</td>\n",
       "    </tr>\n",
       "    <tr>\n",
       "      <th>3</th>\n",
       "      <td>3</td>\n",
       "      <td>bad</td>\n",
       "    </tr>\n",
       "    <tr>\n",
       "      <th>4</th>\n",
       "      <td>4</td>\n",
       "      <td>neutral</td>\n",
       "    </tr>\n",
       "    <tr>\n",
       "      <th>...</th>\n",
       "      <td>...</td>\n",
       "      <td>...</td>\n",
       "    </tr>\n",
       "    <tr>\n",
       "      <th>35</th>\n",
       "      <td>35</td>\n",
       "      <td>good</td>\n",
       "    </tr>\n",
       "    <tr>\n",
       "      <th>36</th>\n",
       "      <td>36</td>\n",
       "      <td>neutral</td>\n",
       "    </tr>\n",
       "    <tr>\n",
       "      <th>37</th>\n",
       "      <td>37</td>\n",
       "      <td>bad</td>\n",
       "    </tr>\n",
       "    <tr>\n",
       "      <th>38</th>\n",
       "      <td>38</td>\n",
       "      <td>bad</td>\n",
       "    </tr>\n",
       "    <tr>\n",
       "      <th>39</th>\n",
       "      <td>39</td>\n",
       "      <td>neutral</td>\n",
       "    </tr>\n",
       "  </tbody>\n",
       "</table>\n",
       "<p>40 rows × 2 columns</p>\n",
       "</div>"
      ],
      "text/plain": [
       "     a        b\n",
       "0    0      bad\n",
       "1    1      bad\n",
       "2    2      bad\n",
       "3    3      bad\n",
       "4    4  neutral\n",
       "..  ..      ...\n",
       "35  35     good\n",
       "36  36  neutral\n",
       "37  37      bad\n",
       "38  38      bad\n",
       "39  39  neutral\n",
       "\n",
       "[40 rows x 2 columns]"
      ]
     },
     "execution_count": 6,
     "metadata": {},
     "output_type": "execute_result"
    }
   ],
   "source": [
    "df = pd.DataFrame({'a': np.arange(40), 'b': s})\n",
    "df"
   ]
  },
  {
   "cell_type": "markdown",
   "metadata": {
    "slideshow": {
     "slide_type": "slide"
    }
   },
   "source": [
    "### Dummy variables"
   ]
  },
  {
   "cell_type": "code",
   "execution_count": 7,
   "metadata": {},
   "outputs": [
    {
     "data": {
      "text/html": [
       "<div>\n",
       "<table border=\"1\" class=\"dataframe\">\n",
       "  <thead>\n",
       "    <tr style=\"text-align: right;\">\n",
       "      <th></th>\n",
       "      <th>bad</th>\n",
       "      <th>neutral</th>\n",
       "      <th>good</th>\n",
       "    </tr>\n",
       "  </thead>\n",
       "  <tbody>\n",
       "    <tr>\n",
       "      <th>0</th>\n",
       "      <td>1</td>\n",
       "      <td>0</td>\n",
       "      <td>0</td>\n",
       "    </tr>\n",
       "    <tr>\n",
       "      <th>1</th>\n",
       "      <td>1</td>\n",
       "      <td>0</td>\n",
       "      <td>0</td>\n",
       "    </tr>\n",
       "    <tr>\n",
       "      <th>2</th>\n",
       "      <td>1</td>\n",
       "      <td>0</td>\n",
       "      <td>0</td>\n",
       "    </tr>\n",
       "    <tr>\n",
       "      <th>3</th>\n",
       "      <td>1</td>\n",
       "      <td>0</td>\n",
       "      <td>0</td>\n",
       "    </tr>\n",
       "    <tr>\n",
       "      <th>4</th>\n",
       "      <td>0</td>\n",
       "      <td>1</td>\n",
       "      <td>0</td>\n",
       "    </tr>\n",
       "    <tr>\n",
       "      <th>...</th>\n",
       "      <td>...</td>\n",
       "      <td>...</td>\n",
       "      <td>...</td>\n",
       "    </tr>\n",
       "    <tr>\n",
       "      <th>35</th>\n",
       "      <td>0</td>\n",
       "      <td>0</td>\n",
       "      <td>1</td>\n",
       "    </tr>\n",
       "    <tr>\n",
       "      <th>36</th>\n",
       "      <td>0</td>\n",
       "      <td>1</td>\n",
       "      <td>0</td>\n",
       "    </tr>\n",
       "    <tr>\n",
       "      <th>37</th>\n",
       "      <td>1</td>\n",
       "      <td>0</td>\n",
       "      <td>0</td>\n",
       "    </tr>\n",
       "    <tr>\n",
       "      <th>38</th>\n",
       "      <td>1</td>\n",
       "      <td>0</td>\n",
       "      <td>0</td>\n",
       "    </tr>\n",
       "    <tr>\n",
       "      <th>39</th>\n",
       "      <td>0</td>\n",
       "      <td>1</td>\n",
       "      <td>0</td>\n",
       "    </tr>\n",
       "  </tbody>\n",
       "</table>\n",
       "<p>40 rows × 3 columns</p>\n",
       "</div>"
      ],
      "text/plain": [
       "    bad  neutral  good\n",
       "0     1        0     0\n",
       "1     1        0     0\n",
       "2     1        0     0\n",
       "3     1        0     0\n",
       "4     0        1     0\n",
       "..  ...      ...   ...\n",
       "35    0        0     1\n",
       "36    0        1     0\n",
       "37    1        0     0\n",
       "38    1        0     0\n",
       "39    0        1     0\n",
       "\n",
       "[40 rows x 3 columns]"
      ]
     },
     "execution_count": 7,
     "metadata": {},
     "output_type": "execute_result"
    }
   ],
   "source": [
    "pd.get_dummies(s)"
   ]
  },
  {
   "cell_type": "code",
   "execution_count": 8,
   "metadata": {},
   "outputs": [
    {
     "data": {
      "text/plain": [
       "0      A|B\n",
       "1    A|B|C\n",
       "2        C\n",
       "3      B|A\n",
       "4      A|B\n",
       "dtype: object"
      ]
     },
     "execution_count": 8,
     "metadata": {},
     "output_type": "execute_result"
    }
   ],
   "source": [
    "kinds = [\n",
    "    'A|B',\n",
    "    'A|B|C',\n",
    "    'C',\n",
    "    'B|A',\n",
    "    'A|B'\n",
    "]\n",
    "s = pd.Series(kinds)\n",
    "s"
   ]
  },
  {
   "cell_type": "code",
   "execution_count": 9,
   "metadata": {},
   "outputs": [
    {
     "data": {
      "text/html": [
       "<div>\n",
       "<table border=\"1\" class=\"dataframe\">\n",
       "  <thead>\n",
       "    <tr style=\"text-align: right;\">\n",
       "      <th></th>\n",
       "      <th>A</th>\n",
       "      <th>B</th>\n",
       "      <th>C</th>\n",
       "    </tr>\n",
       "  </thead>\n",
       "  <tbody>\n",
       "    <tr>\n",
       "      <th>0</th>\n",
       "      <td>1</td>\n",
       "      <td>1</td>\n",
       "      <td>0</td>\n",
       "    </tr>\n",
       "    <tr>\n",
       "      <th>1</th>\n",
       "      <td>1</td>\n",
       "      <td>1</td>\n",
       "      <td>1</td>\n",
       "    </tr>\n",
       "    <tr>\n",
       "      <th>2</th>\n",
       "      <td>0</td>\n",
       "      <td>0</td>\n",
       "      <td>1</td>\n",
       "    </tr>\n",
       "    <tr>\n",
       "      <th>3</th>\n",
       "      <td>1</td>\n",
       "      <td>1</td>\n",
       "      <td>0</td>\n",
       "    </tr>\n",
       "    <tr>\n",
       "      <th>4</th>\n",
       "      <td>1</td>\n",
       "      <td>1</td>\n",
       "      <td>0</td>\n",
       "    </tr>\n",
       "  </tbody>\n",
       "</table>\n",
       "</div>"
      ],
      "text/plain": [
       "   A  B  C\n",
       "0  1  1  0\n",
       "1  1  1  1\n",
       "2  0  0  1\n",
       "3  1  1  0\n",
       "4  1  1  0"
      ]
     },
     "execution_count": 9,
     "metadata": {},
     "output_type": "execute_result"
    }
   ],
   "source": [
    "s.str.get_dummies(sep='|')"
   ]
  },
  {
   "cell_type": "markdown",
   "metadata": {
    "slideshow": {
     "slide_type": "slide"
    }
   },
   "source": [
    "# Statsmodels"
   ]
  },
  {
   "cell_type": "markdown",
   "metadata": {},
   "source": [
    "Brief primer: you give a **estimator** (OLS, WLS, GLM) a **formula** and **dataset**. You then fit that model."
   ]
  },
  {
   "cell_type": "code",
   "execution_count": 10,
   "metadata": {},
   "outputs": [],
   "source": [
    "import statsmodels.api as sm"
   ]
  },
  {
   "cell_type": "markdown",
   "metadata": {},
   "source": [
    "We've got some longintudinal data (repeated measures of the same individual on children with HIV). \n",
    "\n",
    "There are two treatment arms (ARV vs control) represented by `treatment`, and administration of the treatment is indicated by `arv`."
   ]
  },
  {
   "cell_type": "code",
   "execution_count": 11,
   "metadata": {},
   "outputs": [
    {
     "data": {
      "text/html": [
       "<div>\n",
       "<table border=\"1\" class=\"dataframe\">\n",
       "  <thead>\n",
       "    <tr style=\"text-align: right;\">\n",
       "      <th></th>\n",
       "      <th></th>\n",
       "      <th>VDATE</th>\n",
       "      <th>CD4PCT</th>\n",
       "      <th>arv</th>\n",
       "      <th>treatmnt</th>\n",
       "      <th>CD4CNT</th>\n",
       "      <th>baseage</th>\n",
       "    </tr>\n",
       "    <tr>\n",
       "      <th>newpid</th>\n",
       "      <th>VISIT</th>\n",
       "      <th></th>\n",
       "      <th></th>\n",
       "      <th></th>\n",
       "      <th></th>\n",
       "      <th></th>\n",
       "      <th></th>\n",
       "    </tr>\n",
       "  </thead>\n",
       "  <tbody>\n",
       "    <tr>\n",
       "      <th rowspan=\"5\" valign=\"top\">1</th>\n",
       "      <th>1</th>\n",
       "      <td>1988-06-29</td>\n",
       "      <td>18.0</td>\n",
       "      <td>0.0</td>\n",
       "      <td>1</td>\n",
       "      <td>323.0</td>\n",
       "      <td>3.91</td>\n",
       "    </tr>\n",
       "    <tr>\n",
       "      <th>4</th>\n",
       "      <td>1989-01-19</td>\n",
       "      <td>37.0</td>\n",
       "      <td>0.0</td>\n",
       "      <td>1</td>\n",
       "      <td>610.0</td>\n",
       "      <td>3.91</td>\n",
       "    </tr>\n",
       "    <tr>\n",
       "      <th>7</th>\n",
       "      <td>1989-04-13</td>\n",
       "      <td>13.0</td>\n",
       "      <td>0.0</td>\n",
       "      <td>1</td>\n",
       "      <td>324.0</td>\n",
       "      <td>3.91</td>\n",
       "    </tr>\n",
       "    <tr>\n",
       "      <th>13</th>\n",
       "      <td>1989-11-30</td>\n",
       "      <td>13.0</td>\n",
       "      <td>0.0</td>\n",
       "      <td>1</td>\n",
       "      <td>626.0</td>\n",
       "      <td>3.91</td>\n",
       "    </tr>\n",
       "    <tr>\n",
       "      <th>19</th>\n",
       "      <td>1990-06-07</td>\n",
       "      <td>12.0</td>\n",
       "      <td>1.0</td>\n",
       "      <td>1</td>\n",
       "      <td>220.0</td>\n",
       "      <td>3.91</td>\n",
       "    </tr>\n",
       "  </tbody>\n",
       "</table>\n",
       "</div>"
      ],
      "text/plain": [
       "                  VDATE  CD4PCT  arv  treatmnt  CD4CNT  baseage\n",
       "newpid VISIT                                                   \n",
       "1      1     1988-06-29    18.0  0.0         1   323.0     3.91\n",
       "       4     1989-01-19    37.0  0.0         1   610.0     3.91\n",
       "       7     1989-04-13    13.0  0.0         1   324.0     3.91\n",
       "       13    1989-11-30    13.0  0.0         1   626.0     3.91\n",
       "       19    1990-06-07    12.0  1.0         1   220.0     3.91"
      ]
     },
     "execution_count": 11,
     "metadata": {},
     "output_type": "execute_result"
    }
   ],
   "source": [
    "df = pd.read_csv('../data/random/cd4.csv', parse_dates=['VDATE'], index_col=['newpid', 'VISIT'])\n",
    "df = df.dropna()  # estimator can't handle NaNs so ignore for now.\n",
    "df.head()"
   ]
  },
  {
   "cell_type": "markdown",
   "metadata": {},
   "source": [
    "Some basic statistics:"
   ]
  },
  {
   "cell_type": "code",
   "execution_count": 12,
   "metadata": {},
   "outputs": [
    {
     "data": {
      "text/html": [
       "<div>\n",
       "<table border=\"1\" class=\"dataframe\">\n",
       "  <thead>\n",
       "    <tr style=\"text-align: right;\">\n",
       "      <th>treatmnt</th>\n",
       "      <th>1</th>\n",
       "      <th>2</th>\n",
       "    </tr>\n",
       "    <tr>\n",
       "      <th>arv</th>\n",
       "      <th></th>\n",
       "      <th></th>\n",
       "    </tr>\n",
       "  </thead>\n",
       "  <tbody>\n",
       "    <tr>\n",
       "      <th>0.0</th>\n",
       "      <td>486</td>\n",
       "      <td>402</td>\n",
       "    </tr>\n",
       "    <tr>\n",
       "      <th>1.0</th>\n",
       "      <td>48</td>\n",
       "      <td>42</td>\n",
       "    </tr>\n",
       "  </tbody>\n",
       "</table>\n",
       "</div>"
      ],
      "text/plain": [
       "treatmnt    1    2\n",
       "arv               \n",
       "0.0       486  402\n",
       "1.0        48   42"
      ]
     },
     "execution_count": 12,
     "metadata": {},
     "output_type": "execute_result"
    }
   ],
   "source": [
    "df.groupby(['arv', 'treatmnt'])['CD4PCT'].count().unstack()"
   ]
  },
  {
   "cell_type": "code",
   "execution_count": 13,
   "metadata": {},
   "outputs": [
    {
     "data": {
      "text/plain": [
       "arv\n",
       "0.0    947.930180\n",
       "1.0    926.166667\n",
       "Name: CD4CNT, dtype: float64"
      ]
     },
     "execution_count": 13,
     "metadata": {},
     "output_type": "execute_result"
    }
   ],
   "source": [
    "df.groupby('arv')['CD4CNT'].mean()"
   ]
  },
  {
   "cell_type": "code",
   "execution_count": 14,
   "metadata": {},
   "outputs": [
    {
     "data": {
      "text/plain": [
       "<seaborn.axisgrid.FacetGrid at 0x11c5c9d10>"
      ]
     },
     "execution_count": 14,
     "metadata": {},
     "output_type": "execute_result"
    },
    {
     "data": {
      "image/png": "[encoded data removed]",
      "text/plain": [
       "<matplotlib.figure.Figure at 0x11c5c9ed0>"
      ]
     },
     "metadata": {},
     "output_type": "display_data"
    }
   ],
   "source": [
    "sns.factorplot(x='arv', y='CD4CNT', col='treatmnt', data=df)"
   ]
  },
  {
   "cell_type": "code",
   "execution_count": 15,
   "metadata": {},
   "outputs": [
    {
     "data": {
      "text/html": [
       "<div>\n",
       "<table border=\"1\" class=\"dataframe\">\n",
       "  <thead>\n",
       "    <tr style=\"text-align: right;\">\n",
       "      <th></th>\n",
       "      <th></th>\n",
       "      <th>VDATE</th>\n",
       "      <th>CD4PCT</th>\n",
       "      <th>arv</th>\n",
       "      <th>treatmnt</th>\n",
       "      <th>CD4CNT</th>\n",
       "      <th>baseage</th>\n",
       "    </tr>\n",
       "    <tr>\n",
       "      <th>newpid</th>\n",
       "      <th>VISIT</th>\n",
       "      <th></th>\n",
       "      <th></th>\n",
       "      <th></th>\n",
       "      <th></th>\n",
       "      <th></th>\n",
       "      <th></th>\n",
       "    </tr>\n",
       "  </thead>\n",
       "  <tbody>\n",
       "    <tr>\n",
       "      <th rowspan=\"5\" valign=\"top\">1</th>\n",
       "      <th>1</th>\n",
       "      <td>1988-06-29</td>\n",
       "      <td>18.0</td>\n",
       "      <td>0.0</td>\n",
       "      <td>1</td>\n",
       "      <td>323.0</td>\n",
       "      <td>3.91</td>\n",
       "    </tr>\n",
       "    <tr>\n",
       "      <th>4</th>\n",
       "      <td>1989-01-19</td>\n",
       "      <td>37.0</td>\n",
       "      <td>0.0</td>\n",
       "      <td>1</td>\n",
       "      <td>610.0</td>\n",
       "      <td>3.91</td>\n",
       "    </tr>\n",
       "    <tr>\n",
       "      <th>7</th>\n",
       "      <td>1989-04-13</td>\n",
       "      <td>13.0</td>\n",
       "      <td>0.0</td>\n",
       "      <td>1</td>\n",
       "      <td>324.0</td>\n",
       "      <td>3.91</td>\n",
       "    </tr>\n",
       "    <tr>\n",
       "      <th>13</th>\n",
       "      <td>1989-11-30</td>\n",
       "      <td>13.0</td>\n",
       "      <td>0.0</td>\n",
       "      <td>1</td>\n",
       "      <td>626.0</td>\n",
       "      <td>3.91</td>\n",
       "    </tr>\n",
       "    <tr>\n",
       "      <th>19</th>\n",
       "      <td>1990-06-07</td>\n",
       "      <td>12.0</td>\n",
       "      <td>1.0</td>\n",
       "      <td>1</td>\n",
       "      <td>220.0</td>\n",
       "      <td>3.91</td>\n",
       "    </tr>\n",
       "  </tbody>\n",
       "</table>\n",
       "</div>"
      ],
      "text/plain": [
       "                  VDATE  CD4PCT  arv  treatmnt  CD4CNT  baseage\n",
       "newpid VISIT                                                   \n",
       "1      1     1988-06-29    18.0  0.0         1   323.0     3.91\n",
       "       4     1989-01-19    37.0  0.0         1   610.0     3.91\n",
       "       7     1989-04-13    13.0  0.0         1   324.0     3.91\n",
       "       13    1989-11-30    13.0  0.0         1   626.0     3.91\n",
       "       19    1990-06-07    12.0  1.0         1   220.0     3.91"
      ]
     },
     "execution_count": 15,
     "metadata": {},
     "output_type": "execute_result"
    }
   ],
   "source": [
    "df.head()"
   ]
  },
  {
   "cell_type": "code",
   "execution_count": 16,
   "metadata": {},
   "outputs": [],
   "source": [
    "years_since = df.groupby(level='newpid')['VDATE']\\\n",
    "    .apply(lambda x: (x - x.min()).dt.days / 365)\n",
    "df['age'] = df['baseage'] + years_since"
   ]
  },
  {
   "cell_type": "code",
   "execution_count": 17,
   "metadata": {},
   "outputs": [
    {
     "data": {
      "text/plain": [
       "<seaborn.axisgrid.FacetGrid at 0x11c6a7f10>"
      ]
     },
     "execution_count": 17,
     "metadata": {},
     "output_type": "execute_result"
    },
    {
     "data": {
      "image/png": "[encoded data removed]",
      "text/plain": [
       "<matplotlib.figure.Figure at 0x11e8d61d0>"
      ]
     },
     "metadata": {},
     "output_type": "display_data"
    }
   ],
   "source": [
    "sns.lmplot('age', 'CD4CNT', data=df, hue=\"arv\")"
   ]
  },
  {
   "cell_type": "markdown",
   "metadata": {},
   "source": [
    "### Linear regression"
   ]
  },
  {
   "cell_type": "code",
   "execution_count": 18,
   "metadata": {},
   "outputs": [
    {
     "data": {
      "text/html": [
       "<table class=\"simpletable\">\n",
       "<caption>Generalized Linear Model Regression Results</caption>\n",
       "<tr>\n",
       "  <th>Dep. Variable:</th>       <td>CD4PCT</td>      <th>  No. Observations:  </th>    <td>   978</td>    \n",
       "</tr>\n",
       "<tr>\n",
       "  <th>Model:</th>                 <td>GLM</td>       <th>  Df Residuals:      </th>    <td>   974</td>    \n",
       "</tr>\n",
       "<tr>\n",
       "  <th>Model Family:</th>       <td>Gaussian</td>     <th>  Df Model:          </th>    <td>     3</td>    \n",
       "</tr>\n",
       "<tr>\n",
       "  <th>Link Function:</th>      <td>identity</td>     <th>  Scale:             </th> <td>171.820106367</td>\n",
       "</tr>\n",
       "<tr>\n",
       "  <th>Method:</th>               <td>IRLS</td>       <th>  Log-Likelihood:    </th>   <td> -3902.3</td>   \n",
       "</tr>\n",
       "<tr>\n",
       "  <th>Date:</th>           <td>Wed, 25 Oct 2017</td> <th>  Deviance:          </th>  <td>1.6735e+05</td>  \n",
       "</tr>\n",
       "<tr>\n",
       "  <th>Time:</th>               <td>23:40:30</td>     <th>  Pearson chi2:      </th>   <td>1.67e+05</td>   \n",
       "</tr>\n",
       "<tr>\n",
       "  <th>No. Iterations:</th>         <td>2</td>        <th>                     </th>       <td> </td>      \n",
       "</tr>\n",
       "</table>\n",
       "<table class=\"simpletable\">\n",
       "<tr>\n",
       "      <td></td>         <th>coef</th>     <th>std err</th>      <th>z</th>      <th>P>|z|</th>  <th>[0.025</th>    <th>0.975]</th>  \n",
       "</tr>\n",
       "<tr>\n",
       "  <th>Intercept</th> <td>   23.9086</td> <td>    1.495</td> <td>   15.996</td> <td> 0.000</td> <td>   20.979</td> <td>   26.838</td>\n",
       "</tr>\n",
       "<tr>\n",
       "  <th>age</th>       <td>   -0.9923</td> <td>    0.183</td> <td>   -5.421</td> <td> 0.000</td> <td>   -1.351</td> <td>   -0.634</td>\n",
       "</tr>\n",
       "<tr>\n",
       "  <th>arv</th>       <td>    1.6919</td> <td>    1.451</td> <td>    1.166</td> <td> 0.243</td> <td>   -1.151</td> <td>    4.535</td>\n",
       "</tr>\n",
       "<tr>\n",
       "  <th>treatmnt</th>  <td>    2.7020</td> <td>    0.842</td> <td>    3.209</td> <td> 0.001</td> <td>    1.052</td> <td>    4.352</td>\n",
       "</tr>\n",
       "</table>"
      ],
      "text/plain": [
       "<class 'statsmodels.iolib.summary.Summary'>\n",
       "\"\"\"\n",
       "                 Generalized Linear Model Regression Results                  \n",
       "==============================================================================\n",
       "Dep. Variable:                 CD4PCT   No. Observations:                  978\n",
       "Model:                            GLM   Df Residuals:                      974\n",
       "Model Family:                Gaussian   Df Model:                            3\n",
       "Link Function:               identity   Scale:                   171.820106367\n",
       "Method:                          IRLS   Log-Likelihood:                -3902.3\n",
       "Date:                Wed, 25 Oct 2017   Deviance:                   1.6735e+05\n",
       "Time:                        23:40:30   Pearson chi2:                 1.67e+05\n",
       "No. Iterations:                     2                                         \n",
       "==============================================================================\n",
       "                 coef    std err          z      P>|z|      [0.025      0.975]\n",
       "------------------------------------------------------------------------------\n",
       "Intercept     23.9086      1.495     15.996      0.000      20.979      26.838\n",
       "age           -0.9923      0.183     -5.421      0.000      -1.351      -0.634\n",
       "arv            1.6919      1.451      1.166      0.243      -1.151       4.535\n",
       "treatmnt       2.7020      0.842      3.209      0.001       1.052       4.352\n",
       "==============================================================================\n",
       "\"\"\""
      ]
     },
     "execution_count": 18,
     "metadata": {},
     "output_type": "execute_result"
    }
   ],
   "source": [
    "mod = sm.GLM.from_formula('CD4PCT ~ age + arv + treatmnt', df.reset_index())\n",
    "result = mod.fit()\n",
    "result.summary()"
   ]
  },
  {
   "cell_type": "markdown",
   "metadata": {
    "slideshow": {
     "slide_type": "subslide"
    }
   },
   "source": [
    "### Mixed effects models"
   ]
  },
  {
   "cell_type": "code",
   "execution_count": 19,
   "metadata": {},
   "outputs": [
    {
     "data": {
      "text/html": [
       "<table class=\"simpletable\">\n",
       "<tr>\n",
       "       <td>Model:</td>       <td>MixedLM</td> <td>Dependent Variable:</td>   <td>CD4PCT</td>  \n",
       "</tr>\n",
       "<tr>\n",
       "  <td>No. Observations:</td>   <td>978</td>         <td>Method:</td>          <td>REML</td>   \n",
       "</tr>\n",
       "<tr>\n",
       "     <td>No. Groups:</td>      <td>226</td>         <td>Scale:</td>          <td>50.9117</td> \n",
       "</tr>\n",
       "<tr>\n",
       "  <td>Min. group size:</td>     <td>1</td>        <td>Likelihood:</td>     <td>-3569.4486</td>\n",
       "</tr>\n",
       "<tr>\n",
       "  <td>Max. group size:</td>     <td>7</td>        <td>Converged:</td>          <td>Yes</td>   \n",
       "</tr>\n",
       "<tr>\n",
       "  <td>Mean group size:</td>    <td>4.3</td>            <td></td>                <td></td>     \n",
       "</tr>\n",
       "</table>\n",
       "<table class=\"simpletable\">\n",
       "<tr>\n",
       "        <td></td>        <th>Coef.</th>  <th>Std.Err.</th>    <th>z</th>   <th>P>|z|</th> <th>[0.025</th> <th>0.975]</th>\n",
       "</tr>\n",
       "<tr>\n",
       "  <th>Intercept</th>    <td>27.323</td>    <td>2.733</td>   <td>9.998</td> <td>0.000</td> <td>21.967</td> <td>32.679</td>\n",
       "</tr>\n",
       "<tr>\n",
       "  <th>age</th>          <td>-1.799</td>    <td>0.305</td>  <td>-5.908</td> <td>0.000</td> <td>-2.396</td> <td>-1.202</td>\n",
       "</tr>\n",
       "<tr>\n",
       "  <th>arv</th>           <td>4.760</td>    <td>3.129</td>   <td>1.521</td> <td>0.128</td> <td>-1.373</td> <td>10.892</td>\n",
       "</tr>\n",
       "<tr>\n",
       "  <th>treatmnt</th>      <td>2.128</td>    <td>1.613</td>   <td>1.320</td> <td>0.187</td> <td>-1.032</td>  <td>5.289</td>\n",
       "</tr>\n",
       "<tr>\n",
       "  <th>arv:treatmnt</th> <td>-1.955</td>    <td>2.056</td>  <td>-0.951</td> <td>0.342</td> <td>-5.985</td>  <td>2.075</td>\n",
       "</tr>\n",
       "<tr>\n",
       "  <th>groups RE</th>    <td>128.092</td>   <td>2.236</td>     <td></td>      <td></td>       <td></td>       <td></td>   \n",
       "</tr>\n",
       "</table>"
      ],
      "text/plain": [
       "<class 'statsmodels.iolib.summary2.Summary'>\n",
       "\"\"\"\n",
       "          Mixed Linear Model Regression Results\n",
       "========================================================\n",
       "Model:            MixedLM Dependent Variable: CD4PCT    \n",
       "No. Observations: 978     Method:             REML      \n",
       "No. Groups:       226     Scale:              50.9117   \n",
       "Min. group size:  1       Likelihood:         -3569.4486\n",
       "Max. group size:  7       Converged:          Yes       \n",
       "Mean group size:  4.3                                   \n",
       "--------------------------------------------------------\n",
       "              Coef.  Std.Err.   z    P>|z| [0.025 0.975]\n",
       "--------------------------------------------------------\n",
       "Intercept     27.323    2.733  9.998 0.000 21.967 32.679\n",
       "age           -1.799    0.305 -5.908 0.000 -2.396 -1.202\n",
       "arv            4.760    3.129  1.521 0.128 -1.373 10.892\n",
       "treatmnt       2.128    1.613  1.320 0.187 -1.032  5.289\n",
       "arv:treatmnt  -1.955    2.056 -0.951 0.342 -5.985  2.075\n",
       "groups RE    128.092    2.236                           \n",
       "========================================================\n",
       "\n",
       "\"\"\""
      ]
     },
     "execution_count": 19,
     "metadata": {},
     "output_type": "execute_result"
    }
   ],
   "source": [
    "mod2 = sm.MixedLM.from_formula('CD4PCT ~ age + arv*treatmnt', df.reset_index(), groups='newpid')\n",
    "res2 = mod2.fit()\n",
    "res2.summary()"
   ]
  },
  {
   "cell_type": "markdown",
   "metadata": {},
   "source": [
    "# Exercise\n",
    "1. Use a linear regression to find the relationship between SDI and the death rate in 1 to 4 year olds\n",
    "2. What happens if you use a random effect on `location_id` to adjust for differences between countries?\n",
    "3. Are we just picking up a time effect? What happens if you add year to the model?"
   ]
  },
  {
   "cell_type": "code",
   "execution_count": 20,
   "metadata": {},
   "outputs": [
    {
     "data": {
      "text/html": [
       "<div>\n",
       "<table border=\"1\" class=\"dataframe\">\n",
       "  <thead>\n",
       "    <tr style=\"text-align: right;\">\n",
       "      <th></th>\n",
       "      <th></th>\n",
       "      <th>death_rate</th>\n",
       "      <th>sdi</th>\n",
       "    </tr>\n",
       "    <tr>\n",
       "      <th>location_id</th>\n",
       "      <th>year_id</th>\n",
       "      <th></th>\n",
       "      <th></th>\n",
       "    </tr>\n",
       "  </thead>\n",
       "  <tbody>\n",
       "    <tr>\n",
       "      <th rowspan=\"5\" valign=\"top\">6</th>\n",
       "      <th>1990</th>\n",
       "      <td>0.003253</td>\n",
       "      <td>0.733148</td>\n",
       "    </tr>\n",
       "    <tr>\n",
       "      <th>1991</th>\n",
       "      <td>0.003092</td>\n",
       "      <td>0.739537</td>\n",
       "    </tr>\n",
       "    <tr>\n",
       "      <th>1992</th>\n",
       "      <td>0.002907</td>\n",
       "      <td>0.745751</td>\n",
       "    </tr>\n",
       "    <tr>\n",
       "      <th>1993</th>\n",
       "      <td>0.002722</td>\n",
       "      <td>0.751388</td>\n",
       "    </tr>\n",
       "    <tr>\n",
       "      <th>1994</th>\n",
       "      <td>0.002550</td>\n",
       "      <td>0.756424</td>\n",
       "    </tr>\n",
       "  </tbody>\n",
       "</table>\n",
       "</div>"
      ],
      "text/plain": [
       "                     death_rate       sdi\n",
       "location_id year_id                      \n",
       "6           1990       0.003253  0.733148\n",
       "            1991       0.003092  0.739537\n",
       "            1992       0.002907  0.745751\n",
       "            1993       0.002722  0.751388\n",
       "            1994       0.002550  0.756424"
      ]
     },
     "execution_count": 20,
     "metadata": {},
     "output_type": "execute_result"
    }
   ],
   "source": [
    "data = pd.read_hdf('../data/processed/gbd_1to4_deaths_and_sdi.hdf')\n",
    "data.head()"
   ]
  },
  {
   "cell_type": "code",
   "execution_count": 21,
   "metadata": {},
   "outputs": [
    {
     "data": {
      "text/html": [
       "<table class=\"simpletable\">\n",
       "<caption>Generalized Linear Model Regression Results</caption>\n",
       "<tr>\n",
       "  <th>Dep. Variable:</th>     <td>death_rate</td>    <th>  No. Observations:  </th>      <td>  5076</td>      \n",
       "</tr>\n",
       "<tr>\n",
       "  <th>Model:</th>                 <td>GLM</td>       <th>  Df Residuals:      </th>      <td>  5074</td>      \n",
       "</tr>\n",
       "<tr>\n",
       "  <th>Model Family:</th>       <td>Gaussian</td>     <th>  Df Model:          </th>      <td>     1</td>      \n",
       "</tr>\n",
       "<tr>\n",
       "  <th>Link Function:</th>      <td>identity</td>     <th>  Scale:             </th> <td>1.64598950454e-05</td>\n",
       "</tr>\n",
       "<tr>\n",
       "  <th>Method:</th>               <td>IRLS</td>       <th>  Log-Likelihood:    </th>     <td>  20753.</td>     \n",
       "</tr>\n",
       "<tr>\n",
       "  <th>Date:</th>           <td>Wed, 25 Oct 2017</td> <th>  Deviance:          </th>     <td>0.083518</td>     \n",
       "</tr>\n",
       "<tr>\n",
       "  <th>Time:</th>               <td>23:40:32</td>     <th>  Pearson chi2:      </th>      <td>0.0835</td>      \n",
       "</tr>\n",
       "<tr>\n",
       "  <th>No. Iterations:</th>         <td>2</td>        <th>                     </th>         <td> </td>        \n",
       "</tr>\n",
       "</table>\n",
       "<table class=\"simpletable\">\n",
       "<tr>\n",
       "      <td></td>         <th>coef</th>     <th>std err</th>      <th>z</th>      <th>P>|z|</th>  <th>[0.025</th>    <th>0.975]</th>  \n",
       "</tr>\n",
       "<tr>\n",
       "  <th>Intercept</th> <td>    0.0258</td> <td>    0.000</td> <td>  107.405</td> <td> 0.000</td> <td>    0.025</td> <td>    0.026</td>\n",
       "</tr>\n",
       "<tr>\n",
       "  <th>sdi</th>       <td>   -0.0303</td> <td>    0.000</td> <td>  -92.019</td> <td> 0.000</td> <td>   -0.031</td> <td>   -0.030</td>\n",
       "</tr>\n",
       "</table>"
      ],
      "text/plain": [
       "<class 'statsmodels.iolib.summary.Summary'>\n",
       "\"\"\"\n",
       "                 Generalized Linear Model Regression Results                  \n",
       "==============================================================================\n",
       "Dep. Variable:             death_rate   No. Observations:                 5076\n",
       "Model:                            GLM   Df Residuals:                     5074\n",
       "Model Family:                Gaussian   Df Model:                            1\n",
       "Link Function:               identity   Scale:               1.64598950454e-05\n",
       "Method:                          IRLS   Log-Likelihood:                 20753.\n",
       "Date:                Wed, 25 Oct 2017   Deviance:                     0.083518\n",
       "Time:                        23:40:32   Pearson chi2:                   0.0835\n",
       "No. Iterations:                     2                                         \n",
       "==============================================================================\n",
       "                 coef    std err          z      P>|z|      [0.025      0.975]\n",
       "------------------------------------------------------------------------------\n",
       "Intercept      0.0258      0.000    107.405      0.000       0.025       0.026\n",
       "sdi           -0.0303      0.000    -92.019      0.000      -0.031      -0.030\n",
       "==============================================================================\n",
       "\"\"\""
      ]
     },
     "execution_count": 21,
     "metadata": {},
     "output_type": "execute_result"
    }
   ],
   "source": [
    "lm = sm.GLM.from_formula('death_rate ~ sdi', data)\n",
    "lm.fit().summary()"
   ]
  },
  {
   "cell_type": "code",
   "execution_count": 22,
   "metadata": {},
   "outputs": [
    {
     "name": "stderr",
     "output_type": "stream",
     "text": [
      "/Users/kfor/.conda/envs/forecast-2-fork/lib/python2.7/site-packages/statsmodels/regression/mixed_linear_model.py:2019: ConvergenceWarning: The MLE may be on the boundary of the parameter space.\n",
      "  warnings.warn(msg, ConvergenceWarning)\n"
     ]
    },
    {
     "data": {
      "text/html": [
       "<table class=\"simpletable\">\n",
       "<tr>\n",
       "       <td>Model:</td>       <td>MixedLM</td> <td>Dependent Variable:</td> <td>death_rate</td>\n",
       "</tr>\n",
       "<tr>\n",
       "  <td>No. Observations:</td>  <td>5076</td>         <td>Method:</td>          <td>REML</td>   \n",
       "</tr>\n",
       "<tr>\n",
       "     <td>No. Groups:</td>      <td>188</td>         <td>Scale:</td>          <td>0.0000</td>  \n",
       "</tr>\n",
       "<tr>\n",
       "  <td>Min. group size:</td>    <td>27</td>        <td>Likelihood:</td>     <td>23864.8957</td>\n",
       "</tr>\n",
       "<tr>\n",
       "  <td>Max. group size:</td>    <td>27</td>        <td>Converged:</td>          <td>Yes</td>   \n",
       "</tr>\n",
       "<tr>\n",
       "  <td>Mean group size:</td>   <td>27.0</td>            <td></td>                <td></td>     \n",
       "</tr>\n",
       "</table>\n",
       "<table class=\"simpletable\">\n",
       "<tr>\n",
       "      <td></td>       <th>Coef.</th> <th>Std.Err.</th>    <th>z</th>    <th>P>|z|</th> <th>[0.025</th> <th>0.975]</th>\n",
       "</tr>\n",
       "<tr>\n",
       "  <th>Intercept</th>  <td>0.032</td>   <td>0.001</td>  <td>61.857</td>  <td>0.000</td>  <td>0.031</td>  <td>0.033</td>\n",
       "</tr>\n",
       "<tr>\n",
       "  <th>sdi</th>       <td>-0.038</td>   <td>0.001</td>  <td>-63.736</td> <td>0.000</td> <td>-0.040</td> <td>-0.037</td>\n",
       "</tr>\n",
       "<tr>\n",
       "  <th>groups RE</th>  <td>0.000</td>   <td>0.001</td>     <td></td>       <td></td>       <td></td>       <td></td>   \n",
       "</tr>\n",
       "</table>"
      ],
      "text/plain": [
       "<class 'statsmodels.iolib.summary2.Summary'>\n",
       "\"\"\"\n",
       "          Mixed Linear Model Regression Results\n",
       "========================================================\n",
       "Model:            MixedLM Dependent Variable: death_rate\n",
       "No. Observations: 5076    Method:             REML      \n",
       "No. Groups:       188     Scale:              0.0000    \n",
       "Min. group size:  27      Likelihood:         23864.8957\n",
       "Max. group size:  27      Converged:          Yes       \n",
       "Mean group size:  27.0                                  \n",
       "--------------------------------------------------------\n",
       "             Coef.  Std.Err.    z    P>|z| [0.025 0.975]\n",
       "--------------------------------------------------------\n",
       "Intercept     0.032    0.001  61.857 0.000  0.031  0.033\n",
       "sdi          -0.038    0.001 -63.736 0.000 -0.040 -0.037\n",
       "groups RE     0.000    0.001                            \n",
       "========================================================\n",
       "\n",
       "\"\"\""
      ]
     },
     "execution_count": 22,
     "metadata": {},
     "output_type": "execute_result"
    }
   ],
   "source": [
    "mixed = sm.MixedLM.from_formula('death_rate ~ sdi', data.reset_index(), groups='location_id')\n",
    "mixed.fit().summary()"
   ]
  },
  {
   "cell_type": "code",
   "execution_count": 23,
   "metadata": {},
   "outputs": [
    {
     "name": "stderr",
     "output_type": "stream",
     "text": [
      "/Users/kfor/.conda/envs/forecast-2-fork/lib/python2.7/site-packages/statsmodels/regression/mixed_linear_model.py:2019: ConvergenceWarning: The MLE may be on the boundary of the parameter space.\n",
      "  warnings.warn(msg, ConvergenceWarning)\n"
     ]
    },
    {
     "data": {
      "text/html": [
       "<table class=\"simpletable\">\n",
       "<tr>\n",
       "       <td>Model:</td>       <td>MixedLM</td> <td>Dependent Variable:</td> <td>death_rate</td>\n",
       "</tr>\n",
       "<tr>\n",
       "  <td>No. Observations:</td>  <td>5076</td>         <td>Method:</td>          <td>REML</td>   \n",
       "</tr>\n",
       "<tr>\n",
       "     <td>No. Groups:</td>      <td>188</td>         <td>Scale:</td>          <td>0.0000</td>  \n",
       "</tr>\n",
       "<tr>\n",
       "  <td>Min. group size:</td>    <td>27</td>        <td>Likelihood:</td>     <td>23853.8296</td>\n",
       "</tr>\n",
       "<tr>\n",
       "  <td>Max. group size:</td>    <td>27</td>        <td>Converged:</td>          <td>Yes</td>   \n",
       "</tr>\n",
       "<tr>\n",
       "  <td>Mean group size:</td>   <td>27.0</td>            <td></td>                <td></td>     \n",
       "</tr>\n",
       "</table>\n",
       "<table class=\"simpletable\">\n",
       "<tr>\n",
       "      <td></td>       <th>Coef.</th> <th>Std.Err.</th>    <th>z</th>    <th>P>|z|</th> <th>[0.025</th> <th>0.975]</th>\n",
       "</tr>\n",
       "<tr>\n",
       "  <th>Intercept</th>  <td>0.033</td>   <td>0.012</td>   <td>2.669</td>  <td>0.008</td>  <td>0.009</td>  <td>0.057</td>\n",
       "</tr>\n",
       "<tr>\n",
       "  <th>sdi</th>       <td>-0.038</td>   <td>0.001</td>  <td>-35.767</td> <td>0.000</td> <td>-0.040</td> <td>-0.036</td>\n",
       "</tr>\n",
       "<tr>\n",
       "  <th>year_id</th>   <td>-0.000</td>   <td>0.000</td>  <td>-0.104</td>  <td>0.917</td> <td>-0.000</td>  <td>0.000</td>\n",
       "</tr>\n",
       "<tr>\n",
       "  <th>groups RE</th>  <td>0.000</td>   <td>0.001</td>     <td></td>       <td></td>       <td></td>       <td></td>   \n",
       "</tr>\n",
       "</table>"
      ],
      "text/plain": [
       "<class 'statsmodels.iolib.summary2.Summary'>\n",
       "\"\"\"\n",
       "          Mixed Linear Model Regression Results\n",
       "========================================================\n",
       "Model:            MixedLM Dependent Variable: death_rate\n",
       "No. Observations: 5076    Method:             REML      \n",
       "No. Groups:       188     Scale:              0.0000    \n",
       "Min. group size:  27      Likelihood:         23853.8296\n",
       "Max. group size:  27      Converged:          Yes       \n",
       "Mean group size:  27.0                                  \n",
       "--------------------------------------------------------\n",
       "             Coef.  Std.Err.    z    P>|z| [0.025 0.975]\n",
       "--------------------------------------------------------\n",
       "Intercept     0.033    0.012   2.669 0.008  0.009  0.057\n",
       "sdi          -0.038    0.001 -35.767 0.000 -0.040 -0.036\n",
       "year_id      -0.000    0.000  -0.104 0.917 -0.000  0.000\n",
       "groups RE     0.000    0.001                            \n",
       "========================================================\n",
       "\n",
       "\"\"\""
      ]
     },
     "execution_count": 23,
     "metadata": {},
     "output_type": "execute_result"
    }
   ],
   "source": [
    "mixed_with_year = sm.MixedLM.from_formula('death_rate ~ sdi + year_id', data.reset_index(), groups='location_id')\n",
    "mixed_with_year.fit().summary()"
   ]
  },
  {
   "cell_type": "markdown",
   "metadata": {
    "collapsed": true,
    "slideshow": {
     "slide_type": "slide"
    }
   },
   "source": [
    "# Scikit-Learn\n",
    "\n",
    "### Gigantic library of many different kinds of ML and Statistical models"
   ]
  },
  {
   "cell_type": "markdown",
   "metadata": {
    "slideshow": {
     "slide_type": "subslide"
    }
   },
   "source": [
    "#### [Geospatial SVM example](http://scikit-learn.org/stable/auto_examples/applications/plot_species_distribution_modeling.html)"
   ]
  },
  {
   "cell_type": "code",
   "execution_count": 24,
   "metadata": {},
   "outputs": [
    {
     "name": "stderr",
     "output_type": "stream",
     "text": [
      "Downloading species data from https://ndownloader.figshare.com/files/5976075 to /Users/kfor/scikit_learn_data\n"
     ]
    },
    {
     "name": "stdout",
     "output_type": "stream",
     "text": [
      "Automatically created module for IPython interactive environment\n"
     ]
    },
    {
     "name": "stderr",
     "output_type": "stream",
     "text": [
      "Downloading coverage data from https://ndownloader.figshare.com/files/5976078 to /Users/kfor/scikit_learn_data\n"
     ]
    },
    {
     "name": "stdout",
     "output_type": "stream",
     "text": [
      "________________________________________________________________________________\n",
      "Modeling distribution of species 'bradypus variegatus'\n",
      " - fit OneClassSVM ... \n",
      "done.\n",
      " - plot coastlines from coverage\n",
      " - predict species distribution\n",
      "\n",
      " Area under the ROC curve : 0.868443\n",
      "________________________________________________________________________________\n",
      "Modeling distribution of species 'microryzomys minutus'\n",
      " - fit OneClassSVM ... \n",
      "done.\n",
      " - plot coastlines from coverage\n",
      " - predict species distribution\n",
      "\n",
      " Area under the ROC curve : 0.993919\n",
      "\n",
      "time elapsed: 55.57s\n"
     ]
    },
    {
     "data": {
      "image/png": "[encoded data removed]",
      "text/plain": [
       "<matplotlib.figure.Figure at 0x11ffea490>"
      ]
     },
     "metadata": {},
     "output_type": "display_data"
    }
   ],
   "source": [
    "from time import time\n",
    "\n",
    "import numpy as np\n",
    "import matplotlib.pyplot as plt\n",
    "\n",
    "from sklearn.datasets.base import Bunch\n",
    "from sklearn.datasets import fetch_species_distributions\n",
    "from sklearn.datasets.species_distributions import construct_grids\n",
    "from sklearn import svm, metrics\n",
    "\n",
    "# if basemap is available, we'll use it.\n",
    "# otherwise, we'll improvise later...\n",
    "try:\n",
    "    from mpl_toolkits.basemap import Basemap\n",
    "    basemap = True\n",
    "except ImportError:\n",
    "    basemap = False\n",
    "\n",
    "print(__doc__)\n",
    "\n",
    "\n",
    "def create_species_bunch(species_name, train, test, coverages, xgrid, ygrid):\n",
    "    \"\"\"Create a bunch with information about a particular organism\n",
    "\n",
    "    This will use the test/train record arrays to extract the\n",
    "    data specific to the given species name.\n",
    "    \"\"\"\n",
    "    bunch = Bunch(name=' '.join(species_name.split(\"_\")[:2]))\n",
    "    species_name = species_name.encode('ascii')\n",
    "    points = dict(test=test, train=train)\n",
    "\n",
    "    for label, pts in points.items():\n",
    "        # choose points associated with the desired species\n",
    "        pts = pts[pts['species'] == species_name]\n",
    "        bunch['pts_%s' % label] = pts\n",
    "\n",
    "        # determine coverage values for each of the training & testing points\n",
    "        ix = np.searchsorted(xgrid, pts['dd long'])\n",
    "        iy = np.searchsorted(ygrid, pts['dd lat'])\n",
    "        bunch['cov_%s' % label] = coverages[:, -iy, ix].T\n",
    "\n",
    "    return bunch\n",
    "\n",
    "\n",
    "def plot_species_distribution(species=(\"bradypus_variegatus_0\",\n",
    "                                       \"microryzomys_minutus_0\")):\n",
    "    \"\"\"\n",
    "    Plot the species distribution.\n",
    "    \"\"\"\n",
    "    if len(species) > 2:\n",
    "        print(\"Note: when more than two species are provided,\"\n",
    "              \" only the first two will be used\")\n",
    "\n",
    "    t0 = time()\n",
    "\n",
    "    # Load the compressed data\n",
    "    data = fetch_species_distributions()\n",
    "\n",
    "    # Set up the data grid\n",
    "    xgrid, ygrid = construct_grids(data)\n",
    "\n",
    "    # The grid in x,y coordinates\n",
    "    X, Y = np.meshgrid(xgrid, ygrid[::-1])\n",
    "\n",
    "    # create a bunch for each species\n",
    "    BV_bunch = create_species_bunch(species[0],\n",
    "                                    data.train, data.test,\n",
    "                                    data.coverages, xgrid, ygrid)\n",
    "    MM_bunch = create_species_bunch(species[1],\n",
    "                                    data.train, data.test,\n",
    "                                    data.coverages, xgrid, ygrid)\n",
    "\n",
    "    # background points (grid coordinates) for evaluation\n",
    "    np.random.seed(13)\n",
    "    background_points = np.c_[np.random.randint(low=0, high=data.Ny,\n",
    "                                                size=10000),\n",
    "                              np.random.randint(low=0, high=data.Nx,\n",
    "                                                size=10000)].T\n",
    "\n",
    "    # We'll make use of the fact that coverages[6] has measurements at all\n",
    "    # land points.  This will help us decide between land and water.\n",
    "    land_reference = data.coverages[6]\n",
    "\n",
    "    # Fit, predict, and plot for each species.\n",
    "    for i, species in enumerate([BV_bunch, MM_bunch]):\n",
    "        print(\"_\" * 80)\n",
    "        print(\"Modeling distribution of species '%s'\" % species.name)\n",
    "\n",
    "        # Standardize features\n",
    "        mean = species.cov_train.mean(axis=0)\n",
    "        std = species.cov_train.std(axis=0)\n",
    "        train_cover_std = (species.cov_train - mean) / std\n",
    "\n",
    "        # Fit OneClassSVM\n",
    "        print(\" - fit OneClassSVM ... \")\n",
    "        clf = svm.OneClassSVM(nu=0.1, kernel=\"rbf\", gamma=0.5)\n",
    "        clf.fit(train_cover_std)\n",
    "        print(\"done.\")\n",
    "\n",
    "        # Plot map of South America\n",
    "        plt.subplot(1, 2, i + 1)\n",
    "        if basemap:\n",
    "            print(\" - plot coastlines using basemap\")\n",
    "            m = Basemap(projection='cyl', llcrnrlat=Y.min(),\n",
    "                        urcrnrlat=Y.max(), llcrnrlon=X.min(),\n",
    "                        urcrnrlon=X.max(), resolution='c')\n",
    "            m.drawcoastlines()\n",
    "            m.drawcountries()\n",
    "        else:\n",
    "            print(\" - plot coastlines from coverage\")\n",
    "            plt.contour(X, Y, land_reference,\n",
    "                        levels=[-9999], colors=\"k\",\n",
    "                        linestyles=\"solid\")\n",
    "            plt.xticks([])\n",
    "            plt.yticks([])\n",
    "\n",
    "        print(\" - predict species distribution\")\n",
    "\n",
    "        # Predict species distribution using the training data\n",
    "        Z = np.ones((data.Ny, data.Nx), dtype=np.float64)\n",
    "\n",
    "        # We'll predict only for the land points.\n",
    "        idx = np.where(land_reference > -9999)\n",
    "        coverages_land = data.coverages[:, idx[0], idx[1]].T\n",
    "\n",
    "        pred = clf.decision_function((coverages_land - mean) / std)[:, 0]\n",
    "        Z *= pred.min()\n",
    "        Z[idx[0], idx[1]] = pred\n",
    "\n",
    "        levels = np.linspace(Z.min(), Z.max(), 25)\n",
    "        Z[land_reference == -9999] = -9999\n",
    "\n",
    "        # plot contours of the prediction\n",
    "        plt.contourf(X, Y, Z, levels=levels, cmap=plt.cm.Reds)\n",
    "        plt.colorbar(format='%.2f')\n",
    "\n",
    "        # scatter training/testing points\n",
    "        plt.scatter(species.pts_train['dd long'], species.pts_train['dd lat'],\n",
    "                    s=2 ** 2, c='black',\n",
    "                    marker='^', label='train')\n",
    "        plt.scatter(species.pts_test['dd long'], species.pts_test['dd lat'],\n",
    "                    s=2 ** 2, c='black',\n",
    "                    marker='x', label='test')\n",
    "        plt.legend()\n",
    "        plt.title(species.name)\n",
    "        plt.axis('equal')\n",
    "\n",
    "        # Compute AUC with regards to background points\n",
    "        pred_background = Z[background_points[0], background_points[1]]\n",
    "        pred_test = clf.decision_function((species.cov_test - mean)\n",
    "                                          / std)[:, 0]\n",
    "        scores = np.r_[pred_test, pred_background]\n",
    "        y = np.r_[np.ones(pred_test.shape), np.zeros(pred_background.shape)]\n",
    "        fpr, tpr, thresholds = metrics.roc_curve(y, scores)\n",
    "        roc_auc = metrics.auc(fpr, tpr)\n",
    "        plt.text(-35, -70, \"AUC: %.3f\" % roc_auc, ha=\"right\")\n",
    "        print(\"\\n Area under the ROC curve : %f\" % roc_auc)\n",
    "\n",
    "    print(\"\\ntime elapsed: %.2fs\" % (time() - t0))\n",
    "\n",
    "\n",
    "plot_species_distribution()\n",
    "plt.show()"
   ]
  },
  {
   "cell_type": "markdown",
   "metadata": {
    "slideshow": {
     "slide_type": "slide"
    }
   },
   "source": [
    "## [Tensorflow](https://www.tensorflow.org/)\n",
    "\n",
    "Google's latest ML library\n",
    "\n",
    "Also see [TF-Slim](https://github.com/tensorflow/tensorflow/tree/master/tensorflow/contrib/slim)"
   ]
  },
  {
   "cell_type": "code",
   "execution_count": 25,
   "metadata": {
    "slideshow": {
     "slide_type": "subslide"
    }
   },
   "outputs": [
    {
     "data": {
      "text/html": [
       "<iframe src=\"http://playground.tensorflow.org/\" height=500 width=1024>"
      ],
      "text/plain": [
       "<IPython.core.display.HTML object>"
      ]
     },
     "execution_count": 25,
     "metadata": {},
     "output_type": "execute_result"
    }
   ],
   "source": [
    "from IPython import display\n",
    "display.HTML('<iframe src=\"http://playground.tensorflow.org/\" height=500 width=1024>')"
   ]
  },
  {
   "cell_type": "markdown",
   "metadata": {
    "slideshow": {
     "slide_type": "slide"
    }
   },
   "source": [
    "Slide materials adapted from [Tom Augspurger](https://github.com/TomAugspurger/pydata-chi-h2t/blob/master/6-StatsAndML.ipynb)"
   ]
  }
 ],
 "metadata": {
  "anaconda-cloud": {},
  "kernelspec": {
   "display_name": "Python 2",
   "language": "python",
   "name": "python2"
  },
  "language_info": {
   "codemirror_mode": {
    "name": "ipython",
    "version": 2
   },
   "file_extension": ".py",
   "mimetype": "text/x-python",
   "name": "python",
   "nbconvert_exporter": "python",
   "pygments_lexer": "ipython2",
   "version": "2.7.12"
  }
 },
 "nbformat": 4,
 "nbformat_minor": 1
}
